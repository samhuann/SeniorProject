{
 "cells": [
  {
   "cell_type": "code",
   "execution_count": 8,
   "id": "73144176-bf29-4643-8094-0c07437008e4",
   "metadata": {},
   "outputs": [],
   "source": [
    "import pandas as pd"
   ]
  },
  {
   "cell_type": "code",
   "execution_count": 116,
   "id": "5609d8ee-fe00-4c0a-b2a8-4e8e9278ae4e",
   "metadata": {},
   "outputs": [
    {
     "name": "stdout",
     "output_type": "stream",
     "text": [
      "DMSO        0.133000\n",
      "0           0.128500\n",
      "16          0.122167\n",
      "16.1        0.136667\n",
      "64          0.115833\n",
      "64.1        0.117333\n",
      "256         0.124333\n",
      "256.1       0.126000\n",
      "512         0.121167\n",
      "512.1       0.133833\n",
      "DMSO NEG    0.069333\n",
      "dtype: float64\n"
     ]
    }
   ],
   "source": [
    "df = pd.read_excel(\"Samuel_Project/SampleData.xlsx\")\n",
    "mean = df.mean()\n",
    "print(mean)"
   ]
  },
  {
   "cell_type": "code",
   "execution_count": 65,
   "id": "6f65b3d2-a20f-4fb4-a7c3-fec3102c7ea9",
   "metadata": {},
   "outputs": [],
   "source": [
    "dfg = pd.read_excel(\"Samuel_Project/SampleDataGaps.xlsx\")\n",
    "dfg = dfg.dropna(how='all')\n",
    "dfg = dfg.dropna(axis=1)"
   ]
  },
  {
   "cell_type": "code",
   "execution_count": 69,
   "id": "d4011b99-5a84-46e2-bd9b-5002b7ea3605",
   "metadata": {
    "scrolled": true
   },
   "outputs": [
    {
     "data": {
      "text/html": [
       "<div>\n",
       "<style scoped>\n",
       "    .dataframe tbody tr th:only-of-type {\n",
       "        vertical-align: middle;\n",
       "    }\n",
       "\n",
       "    .dataframe tbody tr th {\n",
       "        vertical-align: top;\n",
       "    }\n",
       "\n",
       "    .dataframe thead th {\n",
       "        text-align: right;\n",
       "    }\n",
       "</style>\n",
       "<table border=\"1\" class=\"dataframe\">\n",
       "  <thead>\n",
       "    <tr style=\"text-align: right;\">\n",
       "      <th></th>\n",
       "      <th>DMSO</th>\n",
       "      <th>0</th>\n",
       "      <th>16</th>\n",
       "      <th>16.1</th>\n",
       "      <th>64</th>\n",
       "      <th>64.1</th>\n",
       "      <th>256</th>\n",
       "      <th>256.1</th>\n",
       "      <th>512</th>\n",
       "      <th>512.1</th>\n",
       "      <th>DMSO NEG</th>\n",
       "    </tr>\n",
       "  </thead>\n",
       "  <tbody>\n",
       "    <tr>\n",
       "      <th>0</th>\n",
       "      <td>0.062</td>\n",
       "      <td>0.104</td>\n",
       "      <td>0.062</td>\n",
       "      <td>0.109</td>\n",
       "      <td>0.079</td>\n",
       "      <td>0.075</td>\n",
       "      <td>0.070</td>\n",
       "      <td>0.089</td>\n",
       "      <td>0.066</td>\n",
       "      <td>0.106</td>\n",
       "      <td>0.029</td>\n",
       "    </tr>\n",
       "    <tr>\n",
       "      <th>1</th>\n",
       "      <td>0.136</td>\n",
       "      <td>0.120</td>\n",
       "      <td>0.125</td>\n",
       "      <td>0.153</td>\n",
       "      <td>0.123</td>\n",
       "      <td>0.129</td>\n",
       "      <td>0.133</td>\n",
       "      <td>0.130</td>\n",
       "      <td>0.126</td>\n",
       "      <td>0.128</td>\n",
       "      <td>0.073</td>\n",
       "    </tr>\n",
       "    <tr>\n",
       "      <th>2</th>\n",
       "      <td>0.170</td>\n",
       "      <td>0.153</td>\n",
       "      <td>0.151</td>\n",
       "      <td>0.147</td>\n",
       "      <td>0.135</td>\n",
       "      <td>0.124</td>\n",
       "      <td>0.166</td>\n",
       "      <td>0.144</td>\n",
       "      <td>0.149</td>\n",
       "      <td>0.174</td>\n",
       "      <td>0.092</td>\n",
       "    </tr>\n",
       "    <tr>\n",
       "      <th>3</th>\n",
       "      <td>0.132</td>\n",
       "      <td>0.127</td>\n",
       "      <td>0.129</td>\n",
       "      <td>0.135</td>\n",
       "      <td>0.122</td>\n",
       "      <td>0.122</td>\n",
       "      <td>0.128</td>\n",
       "      <td>0.130</td>\n",
       "      <td>0.122</td>\n",
       "      <td>0.125</td>\n",
       "      <td>0.073</td>\n",
       "    </tr>\n",
       "    <tr>\n",
       "      <th>4</th>\n",
       "      <td>0.157</td>\n",
       "      <td>0.141</td>\n",
       "      <td>0.144</td>\n",
       "      <td>0.138</td>\n",
       "      <td>0.119</td>\n",
       "      <td>0.124</td>\n",
       "      <td>0.129</td>\n",
       "      <td>0.136</td>\n",
       "      <td>0.134</td>\n",
       "      <td>0.133</td>\n",
       "      <td>0.082</td>\n",
       "    </tr>\n",
       "    <tr>\n",
       "      <th>5</th>\n",
       "      <td>0.141</td>\n",
       "      <td>0.126</td>\n",
       "      <td>0.122</td>\n",
       "      <td>0.138</td>\n",
       "      <td>0.117</td>\n",
       "      <td>0.130</td>\n",
       "      <td>0.120</td>\n",
       "      <td>0.127</td>\n",
       "      <td>0.130</td>\n",
       "      <td>0.137</td>\n",
       "      <td>0.067</td>\n",
       "    </tr>\n",
       "  </tbody>\n",
       "</table>\n",
       "</div>"
      ],
      "text/plain": [
       "    DMSO      0     16   16.1     64   64.1    256  256.1    512  512.1  \\\n",
       "0  0.062  0.104  0.062  0.109  0.079  0.075  0.070  0.089  0.066  0.106   \n",
       "1  0.136  0.120  0.125  0.153  0.123  0.129  0.133  0.130  0.126  0.128   \n",
       "2  0.170  0.153  0.151  0.147  0.135  0.124  0.166  0.144  0.149  0.174   \n",
       "3  0.132  0.127  0.129  0.135  0.122  0.122  0.128  0.130  0.122  0.125   \n",
       "4  0.157  0.141  0.144  0.138  0.119  0.124  0.129  0.136  0.134  0.133   \n",
       "5  0.141  0.126  0.122  0.138  0.117  0.130  0.120  0.127  0.130  0.137   \n",
       "\n",
       "   DMSO NEG  \n",
       "0     0.029  \n",
       "1     0.073  \n",
       "2     0.092  \n",
       "3     0.073  \n",
       "4     0.082  \n",
       "5     0.067  "
      ]
     },
     "execution_count": 69,
     "metadata": {},
     "output_type": "execute_result"
    }
   ],
   "source": [
    "pd.read_excel(\"Samuel_Project/SampleData.xlsx\")"
   ]
  },
  {
   "cell_type": "code",
   "execution_count": 167,
   "id": "9073ef0f-ffb2-468f-84ec-64b05c81bbf9",
   "metadata": {
    "scrolled": true
   },
   "outputs": [
    {
     "name": "stdout",
     "output_type": "stream",
     "text": [
      "                0\n",
      "DMSO   100.000000\n",
      "0       92.931937\n",
      "16      82.984293\n",
      "16.1   105.759162\n",
      "64      73.036649\n",
      "64.1    75.392670\n",
      "256     86.387435\n",
      "256.1   89.005236\n",
      "512     81.413613\n",
      "512.1  101.308901\n"
     ]
    }
   ],
   "source": [
    "dfV = df\n",
    "dmsoPosMean = dfV[\"DMSO\"].mean()\n",
    "dmsoNegMean = dfV[\"DMSO NEG\"].mean()\n",
    "for c in dfV.columns:\n",
    "    dfV[c] = 100*((dfV[c]-dmsoNegMean)/(dmsoPosMean-dmsoNegMean))  \n",
    "normalizer = 100/(dfV[\"DMSO\"].mean())\n",
    "dfV1 = dfV.loc[:,\"DMSO\":\"512.1\"]\n",
    "#loc: [rows,columns]\n",
    "normalizedViability = dfV1.mean()*normalizer\n",
    "normalizedFrame = normalizedViability.to_frame()\n",
    "print(normalizedFrame)"
   ]
  },
  {
   "cell_type": "code",
   "execution_count": null,
   "id": "bc9f9190-3827-4bea-a287-c1226a24081e",
   "metadata": {},
   "outputs": [],
   "source": []
  }
 ],
 "metadata": {
  "kernelspec": {
   "display_name": "Python 3 (ipykernel)",
   "language": "python",
   "name": "python3"
  },
  "language_info": {
   "codemirror_mode": {
    "name": "ipython",
    "version": 3
   },
   "file_extension": ".py",
   "mimetype": "text/x-python",
   "name": "python",
   "nbconvert_exporter": "python",
   "pygments_lexer": "ipython3",
   "version": "3.12.0"
  }
 },
 "nbformat": 4,
 "nbformat_minor": 5
}
