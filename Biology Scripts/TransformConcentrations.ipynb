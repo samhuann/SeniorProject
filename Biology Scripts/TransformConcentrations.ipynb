{
 "cells": [
  {
   "cell_type": "code",
   "execution_count": 3,
   "id": "dae8885a-8233-4062-a546-827b8714d086",
   "metadata": {},
   "outputs": [],
   "source": [
    "# Function to perform specified transformations only on X values\n",
    "def custom_transform(data, special_handling=None, unit_change=None, constant=None, log_base=None):\n",
    "    # Special handling of X=0\n",
    "    if special_handling and special_handling != 'None':\n",
    "        user_input = float(input(\"Enter the concentration to change X=0 to: \"))\n",
    "        data.loc[data['X'] == 0, 'X'] = user_input\n",
    "        \n",
    "    # Change units\n",
    "    if unit_change == \"Multiply by a constant\":\n",
    "        data['X'] *= constant\n",
    "    elif unit_change == \"Divide by a constant\":\n",
    "        data['X'] /= constant\n",
    "        \n",
    "    # Transform to logarithms\n",
    "    if log_base:\n",
    "        if log_base == \"log 10\":\n",
    "            data['X'] = np.log10(data['X'])\n",
    "        elif log_base == \"ln\":\n",
    "            data['X'] = np.log(data['X'])\n",
    "        elif log_base == \"log 2\":\n",
    "            data['X'] = np.log2(data['X'])\n",
    "        \n",
    "    return data\n"
   ]
  },
  {
   "cell_type": "code",
   "execution_count": 4,
   "id": "754dc6ef-bcfb-44de-abb7-d79f8947cc36",
   "metadata": {},
   "outputs": [
    {
     "ename": "NameError",
     "evalue": "name 'pd' is not defined",
     "output_type": "error",
     "traceback": [
      "\u001b[1;31m---------------------------------------------------------------------------\u001b[0m",
      "\u001b[1;31mNameError\u001b[0m                                 Traceback (most recent call last)",
      "Cell \u001b[1;32mIn[4], line 1\u001b[0m\n\u001b[1;32m----> 1\u001b[0m data \u001b[38;5;241m=\u001b[39m \u001b[43mpd\u001b[49m\u001b[38;5;241m.\u001b[39mDataFrame({\u001b[38;5;124m'\u001b[39m\u001b[38;5;124mX\u001b[39m\u001b[38;5;124m'\u001b[39m: [\u001b[38;5;241m0\u001b[39m, \u001b[38;5;241m1\u001b[39m, \u001b[38;5;241m2\u001b[39m, \u001b[38;5;241m3\u001b[39m, \u001b[38;5;241m4\u001b[39m], \u001b[38;5;124m'\u001b[39m\u001b[38;5;124mY\u001b[39m\u001b[38;5;124m'\u001b[39m: [\u001b[38;5;241m10\u001b[39m, \u001b[38;5;241m20\u001b[39m, \u001b[38;5;241m30\u001b[39m, \u001b[38;5;241m40\u001b[39m, \u001b[38;5;241m50\u001b[39m]})\n\u001b[0;32m      3\u001b[0m \u001b[38;5;66;03m# Special handling options\u001b[39;00m\n\u001b[0;32m      4\u001b[0m change_concentration \u001b[38;5;241m=\u001b[39m \u001b[38;5;28mfloat\u001b[39m(\u001b[38;5;28minput\u001b[39m(\u001b[38;5;124m\"\u001b[39m\u001b[38;5;124mEnter the concentration to change to if X=0: \u001b[39m\u001b[38;5;124m\"\u001b[39m))\n",
      "\u001b[1;31mNameError\u001b[0m: name 'pd' is not defined"
     ]
    }
   ],
   "source": [
    "data = pd.DataFrame({'X': [0, 1, 2, 3, 4], 'Y': [10, 20, 30, 40, 50]})\n",
    "\n",
    "# Special handling options\n",
    "change_concentration = float(input(\"Enter the concentration to change to if X=0: \"))\n",
    "unit_change_action = input(\"Enter 'multiply' or 'divide' to change units: \")\n",
    "unit_change_value = float(input(\"Enter the constant value for unit change: \"))\n",
    "log_base = input(\"Enter the base of logarithm ('log10', 'ln', or 'log2'): \")\n",
    "\n",
    "unit_change = None\n",
    "if unit_change_action and unit_change_value:\n",
    "    unit_change = {'action': unit_change_action, 'value': unit_change_value}\n",
    "\n",
    "# Apply special handling\n",
    "transformed_data = special_handling(data, change_concentration, unit_change, log_base)\n",
    "\n",
    "# Plot the transformed data\n",
    "sns.scatterplot(x=transformed_data['X'], y=transformed_data['Y'])"
   ]
  },
  {
   "cell_type": "code",
   "execution_count": null,
   "id": "9a12b824-51a3-4fbd-8ac4-8b81991099df",
   "metadata": {},
   "outputs": [],
   "source": []
  }
 ],
 "metadata": {
  "kernelspec": {
   "display_name": "Python 3 (ipykernel)",
   "language": "python",
   "name": "python3"
  },
  "language_info": {
   "codemirror_mode": {
    "name": "ipython",
    "version": 3
   },
   "file_extension": ".py",
   "mimetype": "text/x-python",
   "name": "python",
   "nbconvert_exporter": "python",
   "pygments_lexer": "ipython3",
   "version": "3.12.0"
  }
 },
 "nbformat": 4,
 "nbformat_minor": 5
}
