{
 "cells": [
  {
   "cell_type": "code",
   "execution_count": 5,
   "id": "d88f8029-6811-4c9c-aa9c-b1b3adc5efb2",
   "metadata": {},
   "outputs": [],
   "source": [
    "import pandas as pd\n",
    "import seaborn as sns\n",
    "import numpy as np\n",
    "\n",
    "# Function to interchange X and Y values and apply transformations\n",
    "def interchange_and_transform(data, function, k=None):\n",
    "    # Interchange X and Y values\n",
    "    data['X'], data['Y'] = data['Y'], data['X']\n",
    "    \n",
    "    # Apply transforms to X and Y if chosen\n",
    "    if function == \"Y * K\":\n",
    "        data['Y'] = data['Y'] * k\n",
    "    elif function == \"Y + K\":\n",
    "        data['Y'] = data['Y'] + k\n",
    "    # Add other transformations as needed\n",
    "    \n",
    "    return data\n",
    "\n",
    "# Sample data\n",
    "data = pd.DataFrame({'X': [1, 2, 3, 4, 5], 'Y': [10, 20, 30, 40, 50]})\n",
    "\n",
    "# Choose a function and provide K value\n",
    "function = \"Y * K\"\n",
    "k = 2\n",
    "\n",
    "# Apply interchange and transformations\n",
    "transformed_data = interchange_and_transform(data, function, k)\n",
    "\n",
    "# Plot the transformed data"
   ]
  },
  {
   "cell_type": "code",
   "execution_count": 4,
   "id": "10ae5a37-1622-4756-af55-60fa79410f1c",
   "metadata": {},
   "outputs": [
    {
     "name": "stdout",
     "output_type": "stream",
     "text": [
      "          X         Y\n",
      "0  0.000000 -0.954243\n",
      "1  0.301030 -0.602060\n",
      "2  0.477121 -0.367977\n",
      "3  0.602060 -0.176091\n",
      "4  0.698970  0.000000\n"
     ]
    },
    {
     "data": {
      "text/plain": [
       "<Axes: xlabel='X', ylabel='Y'>"
      ]
     },
     "execution_count": 4,
     "metadata": {},
     "output_type": "execute_result"
    },
    {
     "data": {
      "image/png": "[encoded data removed]",
      "text/plain": [
       "<Figure size 640x480 with 1 Axes>"
      ]
     },
     "metadata": {},
     "output_type": "display_data"
    }
   ],
   "source": [
    "import pandas as pd\n",
    "import seaborn as sns\n",
    "import numpy as np\n",
    "\n",
    "# Function to perform biochemistry transformations\n",
    "def biochemistry_transform(data, transformation, user_input=None):\n",
    "    if transformation == \"eadie-hofstee\":\n",
    "        data['X'] = data['Y'] / data['X']\n",
    "    elif transformation == \"hanes-woolf\":\n",
    "        data['Y'] = data['X'] / data['Y']\n",
    "    elif transformation == \"hill\":\n",
    "        data['X'] = np.log10(data['X'])\n",
    "        data['Y'] = np.log10(data['Y'] / (user_input - data['Y']))\n",
    "    elif transformation == \"log-log\":\n",
    "        data['X'] = np.log10(data['X'])\n",
    "        data['Y'] = np.log10(data['Y'])\n",
    "    elif transformation == \"scatchard\":\n",
    "        data['Y'] = data['Y'] / data['X']\n",
    "        data['X'] = data['Y']\n",
    "    return data\n",
    "\n",
    "# Sample data\n",
    "data = pd.DataFrame({'X': [1, 2, 3, 4, 5], 'Y': [10, 20, 30, 40, 50]})\n",
    "\n",
    "# Choose a transformation and provide necessary input\n",
    "transformation = \"hill\"\n",
    "user_input = 100\n",
    "\n",
    "# Apply biochemistry transformation\n",
    "transformed_data = biochemistry_transform(data, transformation, user_input)\n",
    "print(transformed_data)\n",
    "# Plot the transformed data\n",
    "sns.scatterplot(x=transformed_data['X'], y=transformed_data['Y'])\n"
   ]
  },
  {
   "cell_type": "code",
   "execution_count": 5,
   "id": "b3b142cf-5c68-498f-b762-dc550b187c2f",
   "metadata": {
    "scrolled": true
   },
   "outputs": [
    {
     "name": "stdout",
     "output_type": "stream",
     "text": [
      "Function '' not implemented.\n",
      "   X   Y\n",
      "0  1  10\n",
      "1  2  20\n",
      "2  3  30\n",
      "3  4  40\n",
      "4  5  50\n"
     ]
    },
    {
     "data": {
      "text/plain": [
       "<Axes: xlabel='X', ylabel='Y'>"
      ]
     },
     "execution_count": 5,
     "metadata": {},
     "output_type": "execute_result"
    },
    {
     "data": {
      "image/png": "[encoded data removed]",
      "text/plain": [
       "<Figure size 640x480 with 1 Axes>"
      ]
     },
     "metadata": {},
     "output_type": "display_data"
    }
   ],
   "source": [
    "import pandas as pd\n",
    "import seaborn as sns\n",
    "import numpy as np\n",
    "\n",
    "# Define custom functions\n",
    "def abs_func(x):\n",
    "    return abs(x)\n",
    "\n",
    "def arccos_func(x):\n",
    "    return np.arccos(x)\n",
    "\n",
    "def acos_func(x):\n",
    "    return np.arccos(x)\n",
    "\n",
    "# Add more functions as needed\n",
    "\n",
    "# Function to apply custom transformation\n",
    "def apply_custom_function(data, func_name):\n",
    "    func_map = {\n",
    "        'abs(k)': abs_func,\n",
    "        'arccos(k)': arccos_func,\n",
    "        'acos(k)': acos_func,\n",
    "        # Add more mappings here\n",
    "    }\n",
    "    if func_name in func_map:\n",
    "        data['X'] = func_map[func_name](data['X'])\n",
    "    else:\n",
    "        print(\"Function '{}' not implemented.\".format(func_name))\n",
    "    return data\n",
    "\n",
    "# Sample data\n",
    "data = pd.DataFrame({'X': [1, 2, 3, 4, 5], 'Y': [10, 20, 30, 40, 50]})\n",
    "\n",
    "# User input for custom function\n",
    "user_function = input(\"Enter the custom function (e.g., abs(k), arccos(k), etc.): \")\n",
    "\n",
    "# Apply custom function\n",
    "transformed_data = apply_custom_function(data.copy(), user_function)\n",
    "print(transformed_data)\n",
    "\n",
    "# Plot the transformed data\n",
    "sns.scatterplot(x=transformed_data['X'], y=transformed_data['Y'])\n"
   ]
  },
  {
   "cell_type": "code",
   "execution_count": 2,
   "id": "4054c221-4004-470b-a408-19df09d04b76",
   "metadata": {},
   "outputs": [
    {
     "name": "stdout",
     "output_type": "stream",
     "text": [
      "Defaulting to user installation because normal site-packages is not writeable\n",
      "Collecting seaborn\n",
      "  Downloading seaborn-0.13.2-py3-none-any.whl.metadata (5.4 kB)\n",
      "Requirement already satisfied: numpy!=1.24.0,>=1.20 in c:\\users\\huan4\\appdata\\local\\packages\\pythonsoftwarefoundation.python.3.12_qbz5n2kfra8p0\\localcache\\local-packages\\python312\\site-packages (from seaborn) (1.26.4)\n",
      "Requirement already satisfied: pandas>=1.2 in c:\\users\\huan4\\appdata\\local\\packages\\pythonsoftwarefoundation.python.3.12_qbz5n2kfra8p0\\localcache\\local-packages\\python312\\site-packages (from seaborn) (2.2.2)\n",
      "Requirement already satisfied: matplotlib!=3.6.1,>=3.4 in c:\\users\\huan4\\appdata\\local\\packages\\pythonsoftwarefoundation.python.3.12_qbz5n2kfra8p0\\localcache\\local-packages\\python312\\site-packages (from seaborn) (3.8.4)\n",
      "Requirement already satisfied: contourpy>=1.0.1 in c:\\users\\huan4\\appdata\\local\\packages\\pythonsoftwarefoundation.python.3.12_qbz5n2kfra8p0\\localcache\\local-packages\\python312\\site-packages (from matplotlib!=3.6.1,>=3.4->seaborn) (1.2.1)\n",
      "Requirement already satisfied: cycler>=0.10 in c:\\users\\huan4\\appdata\\local\\packages\\pythonsoftwarefoundation.python.3.12_qbz5n2kfra8p0\\localcache\\local-packages\\python312\\site-packages (from matplotlib!=3.6.1,>=3.4->seaborn) (0.12.1)\n",
      "Requirement already satisfied: fonttools>=4.22.0 in c:\\users\\huan4\\appdata\\local\\packages\\pythonsoftwarefoundation.python.3.12_qbz5n2kfra8p0\\localcache\\local-packages\\python312\\site-packages (from matplotlib!=3.6.1,>=3.4->seaborn) (4.51.0)\n",
      "Requirement already satisfied: kiwisolver>=1.3.1 in c:\\users\\huan4\\appdata\\local\\packages\\pythonsoftwarefoundation.python.3.12_qbz5n2kfra8p0\\localcache\\local-packages\\python312\\site-packages (from matplotlib!=3.6.1,>=3.4->seaborn) (1.4.5)\n",
      "Requirement already satisfied: packaging>=20.0 in c:\\users\\huan4\\appdata\\local\\packages\\pythonsoftwarefoundation.python.3.12_qbz5n2kfra8p0\\localcache\\local-packages\\python312\\site-packages (from matplotlib!=3.6.1,>=3.4->seaborn) (24.0)\n",
      "Requirement already satisfied: pillow>=8 in c:\\users\\huan4\\appdata\\local\\packages\\pythonsoftwarefoundation.python.3.12_qbz5n2kfra8p0\\localcache\\local-packages\\python312\\site-packages (from matplotlib!=3.6.1,>=3.4->seaborn) (10.3.0)\n",
      "Requirement already satisfied: pyparsing>=2.3.1 in c:\\users\\huan4\\appdata\\local\\packages\\pythonsoftwarefoundation.python.3.12_qbz5n2kfra8p0\\localcache\\local-packages\\python312\\site-packages (from matplotlib!=3.6.1,>=3.4->seaborn) (3.1.2)\n",
      "Requirement already satisfied: python-dateutil>=2.7 in c:\\users\\huan4\\appdata\\local\\packages\\pythonsoftwarefoundation.python.3.12_qbz5n2kfra8p0\\localcache\\local-packages\\python312\\site-packages (from matplotlib!=3.6.1,>=3.4->seaborn) (2.9.0.post0)\n",
      "Requirement already satisfied: pytz>=2020.1 in c:\\users\\huan4\\appdata\\local\\packages\\pythonsoftwarefoundation.python.3.12_qbz5n2kfra8p0\\localcache\\local-packages\\python312\\site-packages (from pandas>=1.2->seaborn) (2024.1)\n",
      "Requirement already satisfied: tzdata>=2022.7 in c:\\users\\huan4\\appdata\\local\\packages\\pythonsoftwarefoundation.python.3.12_qbz5n2kfra8p0\\localcache\\local-packages\\python312\\site-packages (from pandas>=1.2->seaborn) (2024.1)\n",
      "Requirement already satisfied: six>=1.5 in c:\\users\\huan4\\appdata\\local\\packages\\pythonsoftwarefoundation.python.3.12_qbz5n2kfra8p0\\localcache\\local-packages\\python312\\site-packages (from python-dateutil>=2.7->matplotlib!=3.6.1,>=3.4->seaborn) (1.16.0)\n",
      "Downloading seaborn-0.13.2-py3-none-any.whl (294 kB)\n",
      "   ---------------------------------------- 0.0/294.9 kB ? eta -:--:--\n",
      "   - -------------------------------------- 10.2/294.9 kB ? eta -:--:--\n",
      "   ---- ---------------------------------- 30.7/294.9 kB 640.0 kB/s eta 0:00:01\n",
      "   --------------- ------------------------ 112.6/294.9 kB 1.1 MB/s eta 0:00:01\n",
      "   ------------------------------- -------- 235.5/294.9 kB 1.6 MB/s eta 0:00:01\n",
      "   ---------------------------------------- 294.9/294.9 kB 1.5 MB/s eta 0:00:00\n",
      "Installing collected packages: seaborn\n",
      "Successfully installed seaborn-0.13.2\n",
      "Note: you may need to restart the kernel to use updated packages.\n"
     ]
    }
   ],
   "source": [
    "pip install seaborn"
   ]
  },
  {
   "cell_type": "code",
   "execution_count": null,
   "id": "c1f786e9",
   "metadata": {},
   "outputs": [],
   "source": []
  }
 ],
 "metadata": {
  "kernelspec": {
   "display_name": "Python 3 (ipykernel)",
   "language": "python",
   "name": "python3"
  },
  "language_info": {
   "codemirror_mode": {
    "name": "ipython",
    "version": 3
   },
   "file_extension": ".py",
   "mimetype": "text/x-python",
   "name": "python",
   "nbconvert_exporter": "python",
   "pygments_lexer": "ipython3",
   "version": "3.12.3"
  }
 },
 "nbformat": 4,
 "nbformat_minor": 5
}
