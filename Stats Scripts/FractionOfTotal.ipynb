{
 "cells": [
  {
   "cell_type": "code",
   "execution_count": 1,
   "id": "760e7768-d898-4115-9a24-d4308879b56e",
   "metadata": {},
   "outputs": [
    {
     "name": "stdin",
     "output_type": "stream",
     "text": [
      "Choose normalization method (Column Total/Row Total/Grand Total/All):  column total\n",
      "Do you want to calculate confidence intervals (yes/no)?  yes\n",
      "Enter the percentage for confidence interval calculation (e.g., 95):  95\n"
     ]
    },
    {
     "name": "stdout",
     "output_type": "stream",
     "text": [
      "Lower Bound: nan\n",
      "Upper Bound: nan\n",
      "Normalized Data\n",
      "          X      Y\n",
      "0     1.950  0.274\n",
      "1     3.910  0.347\n",
      "2     7.381  0.392\n",
      "3    15.630  0.420\n",
      "4    31.250  0.586\n",
      "5    62.500  1.115\n",
      "6   125.000  2.227\n",
      "7   250.000  2.335\n",
      "8   500.000  2.372\n",
      "9  1000.000  2.432\n"
     ]
    },
    {
     "name": "stderr",
     "output_type": "stream",
     "text": [
      "C:\\Users\\huan4\\AppData\\Local\\Temp\\ipykernel_18684\\4060195516.py:9: RuntimeWarning: invalid value encountered in sqrt\n",
      "  width = z_alpha * np.sqrt(p * (1 - p) / n + z_alpha**2 / (4 * n**2))\n"
     ]
    }
   ],
   "source": [
    "import pandas as pd\n",
    "import numpy as np\n",
    "from scipy.stats import norm\n",
    "\n",
    "# Function to calculate Wilson/Brown confidence interval\n",
    "def wilson_brown_confidence_interval(n, p, alpha=0.05):\n",
    "    z_alpha = norm.ppf(1 - alpha / 2)\n",
    "    center = p + z_alpha**2 / (2 * n)\n",
    "    width = z_alpha * np.sqrt(p * (1 - p) / n + z_alpha**2 / (4 * n**2))\n",
    "    lower_bound = (center - width) / (1 + z_alpha**2 / n)\n",
    "    upper_bound = (center + width) / (1 + z_alpha**2 / n)\n",
    "    return lower_bound, upper_bound\n",
    "\n",
    "# Function to normalize data\n",
    "def normalize_data(data, method):\n",
    "    normalized_data = data.copy()\n",
    "    if method == \"Column Total\":\n",
    "        normalized_data = data.div(data.sum(axis=0), axis=1)\n",
    "    elif method == \"Row Total\":\n",
    "        normalized_data = data.div(data.sum(axis=1), axis=0)\n",
    "    elif method == \"Grand Total\":\n",
    "        normalized_data = data.div(data.values.sum())\n",
    "    elif method == \"All\":\n",
    "        normalized_data_column = data.div(data.sum(axis=0), axis=1)\n",
    "        normalized_data_row = data.div(data.sum(axis=1), axis=0)\n",
    "        normalized_data_grand = data.div(data.values.sum())\n",
    "        normalized_data = {'Column Total': normalized_data_column, \n",
    "                           'Row Total': normalized_data_row, \n",
    "                           'Grand Total': normalized_data_grand}\n",
    "    return normalized_data\n",
    "\n",
    "# Function to calculate confidence intervals\n",
    "def calculate_confidence_intervals(data, percentage):\n",
    "    if percentage > 0 and percentage < 100:\n",
    "        n = data.sum().sum()  # Total number of observations\n",
    "        p = data.values.sum() / (data.shape[0] * data.shape[1])  # Proportion of successes\n",
    "        lower_bound, upper_bound = wilson_brown_confidence_interval(n, p)\n",
    "        return lower_bound, upper_bound\n",
    "    else:\n",
    "        return None, None\n",
    "\n",
    "# Read data from Excel\n",
    "data = pd.read_excel(\"Samuel_Project/sample_input.xlsx\")\n",
    "\n",
    "# Ask for normalization method\n",
    "method = input(\"Choose normalization method (Column Total/Row Total/Grand Total/All): \").capitalize()\n",
    "\n",
    "# Normalize data\n",
    "normalized_data = normalize_data(data, method)\n",
    "\n",
    "# Ask if user wants to calculate confidence intervals\n",
    "calculate_ci = input(\"Do you want to calculate confidence intervals (yes/no)? \").lower()\n",
    "\n",
    "if calculate_ci == \"yes\":\n",
    "    # Ask for percentage for confidence interval calculation\n",
    "    percentage = float(input(\"Enter the percentage for confidence interval calculation (e.g., 95): \"))\n",
    "    lower_bound, upper_bound = calculate_confidence_intervals(data, percentage)\n",
    "    print(\"Lower Bound:\", lower_bound)\n",
    "    print(\"Upper Bound:\", upper_bound)\n",
    "\n",
    "# Output the normalized data\n",
    "if isinstance(normalized_data, dict):\n",
    "    for key, value in normalized_data.items():\n",
    "        print(\"Normalized Data -\", key)\n",
    "        print(value)\n",
    "        print()\n",
    "else:\n",
    "    print(\"Normalized Data\")\n",
    "    print(normalized_data)\n"
   ]
  },
  {
   "cell_type": "code",
   "execution_count": null,
   "id": "bf79c9dd-fec3-436e-9d53-10b46c2f8320",
   "metadata": {},
   "outputs": [],
   "source": []
  }
 ],
 "metadata": {
  "kernelspec": {
   "display_name": "Python 3 (ipykernel)",
   "language": "python",
   "name": "python3"
  },
  "language_info": {
   "codemirror_mode": {
    "name": "ipython",
    "version": 3
   },
   "file_extension": ".py",
   "mimetype": "text/x-python",
   "name": "python",
   "nbconvert_exporter": "python",
   "pygments_lexer": "ipython3",
   "version": "3.12.0"
  }
 },
 "nbformat": 4,
 "nbformat_minor": 5
}
