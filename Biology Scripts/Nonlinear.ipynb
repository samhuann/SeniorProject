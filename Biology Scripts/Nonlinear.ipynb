{
 "cells": [
  {
   "cell_type": "code",
   "execution_count": 4,
   "id": "fe68fed1-1439-442e-baec-f4217954692c",
   "metadata": {},
   "outputs": [
    {
     "name": "stdin",
     "output_type": "stream",
     "text": [
      "Which nonlinear regression model do you want to use? (Exponential/Linear/Polynomial/Powerlaw):  Polynomial\n",
      "Enter the degree of polynomial:  2\n"
     ]
    },
    {
     "ename": "ValueError",
     "evalue": "Unable to determine number of fit parameters.",
     "output_type": "error",
     "traceback": [
      "\u001b[1;31m---------------------------------------------------------------------------\u001b[0m",
      "\u001b[1;31mValueError\u001b[0m                                Traceback (most recent call last)",
      "Cell \u001b[1;32mIn[4], line 46\u001b[0m\n\u001b[0;32m     44\u001b[0m \u001b[38;5;28;01melif\u001b[39;00m model_choice \u001b[38;5;241m==\u001b[39m \u001b[38;5;124m\"\u001b[39m\u001b[38;5;124mpolynomial\u001b[39m\u001b[38;5;124m\"\u001b[39m:\n\u001b[0;32m     45\u001b[0m     degree \u001b[38;5;241m=\u001b[39m \u001b[38;5;28mint\u001b[39m(\u001b[38;5;28minput\u001b[39m(\u001b[38;5;124m\"\u001b[39m\u001b[38;5;124mEnter the degree of polynomial: \u001b[39m\u001b[38;5;124m\"\u001b[39m))\n\u001b[1;32m---> 46\u001b[0m     popt, pcov \u001b[38;5;241m=\u001b[39m \u001b[43mcurve_fit\u001b[49m\u001b[43m(\u001b[49m\u001b[43mpolynomial_model\u001b[49m\u001b[43m,\u001b[49m\u001b[43m \u001b[49m\u001b[43mX\u001b[49m\u001b[43m,\u001b[49m\u001b[43m \u001b[49m\u001b[43mY\u001b[49m\u001b[43m,\u001b[49m\u001b[43m \u001b[49m\u001b[43mdeg\u001b[49m\u001b[38;5;241;43m=\u001b[39;49m\u001b[43mdegree\u001b[49m\u001b[43m)\u001b[49m\n\u001b[0;32m     47\u001b[0m     curve_values \u001b[38;5;241m=\u001b[39m polynomial_model(X, \u001b[38;5;241m*\u001b[39mpopt)\n\u001b[0;32m     48\u001b[0m \u001b[38;5;28;01melif\u001b[39;00m model_choice \u001b[38;5;241m==\u001b[39m \u001b[38;5;124m\"\u001b[39m\u001b[38;5;124mpowerlaw\u001b[39m\u001b[38;5;124m\"\u001b[39m:\n",
      "File \u001b[1;32m~\\AppData\\Local\\Programs\\Python\\Python312\\Lib\\site-packages\\scipy\\optimize\\_minpack_py.py:873\u001b[0m, in \u001b[0;36mcurve_fit\u001b[1;34m(f, xdata, ydata, p0, sigma, absolute_sigma, check_finite, bounds, method, jac, full_output, nan_policy, **kwargs)\u001b[0m\n\u001b[0;32m    871\u001b[0m     args \u001b[38;5;241m=\u001b[39m sig\u001b[38;5;241m.\u001b[39margs\n\u001b[0;32m    872\u001b[0m     \u001b[38;5;28;01mif\u001b[39;00m \u001b[38;5;28mlen\u001b[39m(args) \u001b[38;5;241m<\u001b[39m \u001b[38;5;241m2\u001b[39m:\n\u001b[1;32m--> 873\u001b[0m         \u001b[38;5;28;01mraise\u001b[39;00m \u001b[38;5;167;01mValueError\u001b[39;00m(\u001b[38;5;124m\"\u001b[39m\u001b[38;5;124mUnable to determine number of fit parameters.\u001b[39m\u001b[38;5;124m\"\u001b[39m)\n\u001b[0;32m    874\u001b[0m     n \u001b[38;5;241m=\u001b[39m \u001b[38;5;28mlen\u001b[39m(args) \u001b[38;5;241m-\u001b[39m \u001b[38;5;241m1\u001b[39m\n\u001b[0;32m    875\u001b[0m \u001b[38;5;28;01melse\u001b[39;00m:\n",
      "\u001b[1;31mValueError\u001b[0m: Unable to determine number of fit parameters."
     ]
    }
   ],
   "source": [
    "import pandas as pd\n",
    "import seaborn as sns\n",
    "import matplotlib.pyplot as plt\n",
    "import numpy as np\n",
    "from scipy.optimize import curve_fit\n",
    "from scipy.stats import t\n",
    "\n",
    "# Nonlinear regression models\n",
    "def exponential_model(x, a, b):\n",
    "    return a * np.exp(b * x)\n",
    "\n",
    "def linear_model(x, m, c):\n",
    "    return m * x + c\n",
    "\n",
    "def polynomial_model(x, *coefficients):\n",
    "    return np.polyval(coefficients, x)\n",
    "\n",
    "def powerlaw_model(x, a, b):\n",
    "    return a * np.power(x, b)\n",
    "\n",
    "# Function for interpolation\n",
    "def interpolate_from_curve(x_values, curve_values, confidence_interval):\n",
    "    upper_bound = curve_values + t.ppf(0.5 + confidence_interval / 2, len(x_values) - 2) * np.std(curve_values, ddof=1) / np.sqrt(len(x_values))\n",
    "    lower_bound = curve_values - t.ppf(0.5 + confidence_interval / 2, len(x_values) - 2) * np.std(curve_values, ddof=1) / np.sqrt(len(x_values))\n",
    "    return lower_bound, upper_bound\n",
    "\n",
    "# Load Excel dataframe (replace 'input_data.xlsx' with your Excel file)\n",
    "data = pd.read_excel('Samuel_Project/Sample_Input.xlsx')\n",
    "\n",
    "# Ask user for nonlinear regression model\n",
    "model_choice = input(\"Which nonlinear regression model do you want to use? (Exponential/Linear/Polynomial/Powerlaw): \").lower()\n",
    "\n",
    "# Extract X and Y data from the dataframe\n",
    "X = data['X']\n",
    "Y = data['Y']\n",
    "\n",
    "# Perform nonlinear regression based on user choice\n",
    "if model_choice == \"exponential\":\n",
    "    popt, pcov = curve_fit(exponential_model, X, Y)\n",
    "    curve_values = exponential_model(X, *popt)\n",
    "elif model_choice == \"linear\":\n",
    "    popt, pcov = curve_fit(linear_model, X, Y)\n",
    "    curve_values = linear_model(X, *popt)\n",
    "elif model_choice == \"polynomial\":\n",
    "    degree = int(input(\"Enter the degree of polynomial: \"))\n",
    "    popt, pcov = curve_fit(polynomial_model, X, Y, deg=degree)\n",
    "    curve_values = polynomial_model(X, *popt)\n",
    "elif model_choice == \"powerlaw\":\n",
    "    popt, pcov = curve_fit(powerlaw_model, X, Y)\n",
    "    curve_values = powerlaw_model(X, *popt)\n",
    "else:\n",
    "    print(\"Invalid model choice.\")\n",
    "\n",
    "# Plot the data and best fit curve\n",
    "plt.figure(figsize=(10, 6))\n",
    "sns.scatterplot(x=X, y=Y, label='Data')\n",
    "plt.plot(X, curve_values, color='red', label='Best Fit Curve')\n",
    "\n",
    "# Ask user if they want to interpolate from the best fit curve\n",
    "interpolation_choice = input(\"Do you want to interpolate from the best fit curve? (yes/no): \").lower()\n",
    "\n",
    "if interpolation_choice == \"yes\":\n",
    "    confidence_interval = float(input(\"Enter the confidence interval (between 0 and 1): \"))\n",
    "    lower_bound, upper_bound = interpolate_from_curve(X, curve_values, confidence_interval)\n",
    "    plt.fill_between(X, lower_bound, upper_bound, color='gray', alpha=0.3, label='Confidence Interval')\n",
    "\n",
    "plt.xlabel(\"X\")\n",
    "plt.ylabel(\"Y\")\n",
    "plt.title(\"Nonlinear Regression\")\n",
    "plt.legend()\n",
    "plt.show()\n"
   ]
  },
  {
   "cell_type": "code",
   "execution_count": null,
   "id": "79a05629-3142-4864-956f-677d44b13d13",
   "metadata": {},
   "outputs": [],
   "source": []
  }
 ],
 "metadata": {
  "kernelspec": {
   "display_name": "Python 3 (ipykernel)",
   "language": "python",
   "name": "python3"
  },
  "language_info": {
   "codemirror_mode": {
    "name": "ipython",
    "version": 3
   },
   "file_extension": ".py",
   "mimetype": "text/x-python",
   "name": "python",
   "nbconvert_exporter": "python",
   "pygments_lexer": "ipython3",
   "version": "3.12.0"
  }
 },
 "nbformat": 4,
 "nbformat_minor": 5
}
