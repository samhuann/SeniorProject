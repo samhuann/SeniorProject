{
 "cells": [
  {
   "cell_type": "code",
   "execution_count": 1,
   "metadata": {},
   "outputs": [
    {
     "name": "stdout",
     "output_type": "stream",
     "text": [
      "Column 'Group1': p-value = 0.6186248513251719\n",
      "Column 'Group2': p-value = 0.6186248513251719\n",
      "Column 'Group3': p-value = 0.6186248513251719\n"
     ]
    }
   ],
   "source": [
    "from scipy import stats\n",
    "import pandas as pd\n",
    "\n",
    "def one_way_anova(df):\n",
    "    results = {}\n",
    "    for column in df.columns:\n",
    "        groups = [df[column] for column in df.columns]\n",
    "        _, p_value = stats.f_oneway(*groups)\n",
    "        results[column] = p_value\n",
    "    return results\n",
    "\n",
    "# Example DataFrame\n",
    "data = {\n",
    "    'Group1': [10, 12, 14, 16, 18],\n",
    "    'Group2': [9, 11, 13, 15, 17],\n",
    "    'Group3': [8, 10, 12, 14, 16]\n",
    "}\n",
    "\n",
    "df = pd.DataFrame(data)\n",
    "\n",
    "# Perform one-way ANOVA test for each column\n",
    "results = one_way_anova(df)\n",
    "\n",
    "# Print results\n",
    "for column, p_value in results.items():\n",
    "    print(f\"Column '{column}': p-value = {p_value}\")"
   ]
  },
  {
   "cell_type": "code",
   "execution_count": 2,
   "metadata": {},
   "outputs": [
    {
     "name": "stdout",
     "output_type": "stream",
     "text": [
      "Overall p-value: 0.6186248513251719\n"
     ]
    }
   ],
   "source": [
    "from scipy import stats\n",
    "import pandas as pd\n",
    "\n",
    "def one_way_anova(df):\n",
    "    # Perform one-way ANOVA\n",
    "    _, p_value = stats.f_oneway(*[df[col] for col in df.columns])\n",
    "    return p_value\n",
    "\n",
    "# Example DataFrame\n",
    "data = {\n",
    "    'Group1': [10, 12, 14, 16, 18],\n",
    "    'Group2': [9, 11, 13, 15, 17],\n",
    "    'Group3': [8, 10, 12, 14, 16]\n",
    "}\n",
    "\n",
    "df = pd.DataFrame(data)\n",
    "\n",
    "# Perform one-way ANOVA test\n",
    "p_value = one_way_anova(df)\n",
    "\n",
    "# Print the p-value\n",
    "print(\"Overall p-value:\", p_value)"
   ]
  },
  {
   "cell_type": "code",
   "execution_count": null,
   "metadata": {},
   "outputs": [],
   "source": []
  }
 ],
 "metadata": {
  "kernelspec": {
   "display_name": "Python 3",
   "language": "python",
   "name": "python3"
  },
  "language_info": {
   "codemirror_mode": {
    "name": "ipython",
    "version": 3
   },
   "file_extension": ".py",
   "mimetype": "text/x-python",
   "name": "python",
   "nbconvert_exporter": "python",
   "pygments_lexer": "ipython3",
   "version": "3.12.3"
  }
 },
 "nbformat": 4,
 "nbformat_minor": 2
}
