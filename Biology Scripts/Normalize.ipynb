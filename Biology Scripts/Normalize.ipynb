{
 "cells": [
  {
   "cell_type": "code",
   "execution_count": 1,
   "id": "4fbe1e7c-07f0-4b8e-90f7-11133a9ce3ea",
   "metadata": {},
   "outputs": [
    {
     "name": "stdin",
     "output_type": "stream",
     "text": [
      "How do you want to define 0% (Smallest value/First value/User input/Sum of all values/Average of all values)?  smallest value\n",
      "How do you want to define 100% (Largest value/Last value/User input/Sum of all values/Average of all values)?  largest value\n",
      "How do you want to present the results (Fraction/Percentage)?  percentage\n"
     ]
    },
    {
     "name": "stdout",
     "output_type": "stream",
     "text": [
      "            0       16        16.1          64        64.1         256  \\\n",
      "0  100.000000  100.000  100.000000   12.500000   91.666667    0.000000   \n",
      "1   81.775701    2.500    0.000000    0.892857   29.166667   28.318584   \n",
      "2   41.588785   11.250   28.888889    2.678571  100.000000   56.637168   \n",
      "3   35.046729   18.750   42.222222  100.000000  100.000000  100.000000   \n",
      "4    0.000000    4.375   17.777778    0.892857    0.000000   47.787611   \n",
      "5   40.654206    0.000   66.666667    0.000000   14.583333   14.159292   \n",
      "\n",
      "        256.1         512       512.1    DMSO NEG  \n",
      "0    0.000000    0.000000   44.736842    0.000000  \n",
      "1  100.000000   33.333333   26.315789   57.142857  \n",
      "2   82.222222  100.000000  100.000000  100.000000  \n",
      "3   88.888889   66.666667    0.000000   62.857143  \n",
      "4   86.666667   47.222222   36.842105   40.000000  \n",
      "5   95.555556   52.777778   78.947368   72.857143  \n"
     ]
    }
   ],
   "source": [
    "import pandas as pd\n",
    "\n",
    "# Function to normalize data\n",
    "def normalize_data(data, zero_percent_option, hundred_percent_option, presentation):\n",
    "    normalized_data = data.copy()\n",
    "    \n",
    "    # Define 0% based on user options\n",
    "    if zero_percent_option == \"Smallest value\":\n",
    "        zero_percent_values = data.min(axis=0)\n",
    "    elif zero_percent_option == \"First value\":\n",
    "        zero_percent_values = data.iloc[0]\n",
    "    elif zero_percent_option == \"User input\":\n",
    "        zero_percent_values = pd.Series(float(input(\"Enter the value for 0%: \")), index=data.columns)\n",
    "    elif zero_percent_option == \"Sum of all values\":\n",
    "        zero_percent_values = data.sum(axis=0)\n",
    "    elif zero_percent_option == \"Average of all values\":\n",
    "        zero_percent_values = data.mean(axis=0)\n",
    "    \n",
    "    # Define 100% based on user options\n",
    "    if hundred_percent_option == \"Largest value\":\n",
    "        hundred_percent_values = data.max(axis=0)\n",
    "    elif hundred_percent_option == \"Last value\":\n",
    "        hundred_percent_values = data.iloc[-1]\n",
    "    elif hundred_percent_option == \"User input\":\n",
    "        hundred_percent_values = pd.Series(float(input(\"Enter the value for 100%: \")), index=data.columns)\n",
    "    elif hundred_percent_option == \"Sum of all values\":\n",
    "        hundred_percent_values = data.sum(axis=0)\n",
    "    elif hundred_percent_option == \"Average of all values\":\n",
    "        hundred_percent_values = data.mean(axis=0)\n",
    "\n",
    "    # Normalize each column\n",
    "    for column in data.columns:\n",
    "        if presentation == \"Percentage\":\n",
    "            normalized_data[column] = ((data[column] - zero_percent_values[column]) / (hundred_percent_values[column] - zero_percent_values[column])) * 100\n",
    "        elif presentation == \"Fraction\":\n",
    "            normalized_data[column] = (data[column] - zero_percent_values[column]) / (hundred_percent_values[column] - zero_percent_values[column])\n",
    "    \n",
    "    return normalized_data\n",
    "\n",
    "# Sample Excel dataframe (replace 'sample_data.xlsx' with your Excel file)\n",
    "data = pd.read_excel(\"Samuel_Project/SampleData.xlsx\")\n",
    "\n",
    "# Ask user for normalization options\n",
    "zero_percent_option = input(\"How do you want to define 0% (Smallest value/First value/User input/Sum of all values/Average of all values)? \").capitalize()\n",
    "hundred_percent_option = input(\"How do you want to define 100% (Largest value/Last value/User input/Sum of all values/Average of all values)? \").capitalize()\n",
    "presentation = input(\"How do you want to present the results (Fraction/Percentage)? \").capitalize()\n",
    "\n",
    "# Normalize data\n",
    "normalized_data = normalize_data(data, zero_percent_option, hundred_percent_option, presentation)\n",
    "\n",
    "print(normalized_data)\n"
   ]
  },
  {
   "cell_type": "code",
   "execution_count": null,
   "id": "6878640d-500e-4e65-b3ed-137c84c3b509",
   "metadata": {},
   "outputs": [],
   "source": []
  }
 ],
 "metadata": {
  "kernelspec": {
   "display_name": "Python 3 (ipykernel)",
   "language": "python",
   "name": "python3"
  },
  "language_info": {
   "codemirror_mode": {
    "name": "ipython",
    "version": 3
   },
   "file_extension": ".py",
   "mimetype": "text/x-python",
   "name": "python",
   "nbconvert_exporter": "python",
   "pygments_lexer": "ipython3",
   "version": "3.12.0"
  }
 },
 "nbformat": 4,
 "nbformat_minor": 5
}
